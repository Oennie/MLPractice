{
 "cells": [
  {
   "cell_type": "markdown",
   "id": "ea4f71cc-3255-4283-93c1-da83a00d1b0d",
   "metadata": {
    "id": "ea4f71cc-3255-4283-93c1-da83a00d1b0d"
   },
   "source": [
    "# Assignment 7 (Week 7)\n",
    "\n",
    "## Name: Eniola Ogunmona\n"
   ]
  },
  {
   "cell_type": "markdown",
   "id": "2c17f931",
   "metadata": {
    "id": "ffed0267-e8b6-4bb2-ba37-34771056f387"
   },
   "source": [
    "### Table of Contents\n",
    "- [Introduction](#intro)\n",
    "- [Data preprocessing](#dataprep)\n",
    "- [Model building](#modelbuild)\n",
    "- [Model evaluation](#modeleval)\n",
    "- [Conclusion](#conclusion)"
   ]
  },
  {
   "cell_type": "markdown",
   "id": "172f8480-1c1d-46b3-a205-87f96b140b69",
   "metadata": {
    "id": "172f8480-1c1d-46b3-a205-87f96b140b69"
   },
   "source": [
    "<a id=\"intro\"></a>\n",
    "## Introduction\n",
    "\n",
    "The objective of this project is to predict whether a person makes over 50K a year based on various demographic, educational, and employment-related features. \n",
    "\n",
    "The dataset contains information about individuals' age, workclass, education level, occupation, and other characteristics, as well as their income level. \n",
    "\n",
    "We will use this data to train a classification model that can predict whether a person makes over 50K a year or not.\n",
    "\n",
    "> The data can be found [here](https://drive.google.com/file/d/1_c3KA14xQC02K0QZ4cpi1emjdz0rqHzb/view?usp=share_link).\n",
    "\n",
    "### Data Dictionary\n",
    "\n",
    "```\n",
    "- Age: continuous.\n",
    "\n",
    "- Workclass: Private, Self-emp-not-inc, Self-emp-inc, Federal-gov, Local-gov, State-gov, Without-pay, Never-worked.\n",
    "\n",
    "- Final_weight: continuous.\n",
    "\n",
    "- Education: Bachelors, Some-college, 11th, HS-grad, Prof-school, Assoc-acdm, Assoc-voc, 9th, 7th-8th, 12th, - Masters, 1st-4th, 10th, Doctorate, 5th-6th, Preschool.\n",
    "\n",
    "- Education_num: continuous.\n",
    "\n",
    "- Marital_status: Married-civ-spouse, Divorced, Never-married, Separated, Widowed, Married-spouse-absent, - Married-AF-spouse.\n",
    "\n",
    "- Occupation: Tech-support, Craft-repair, Other-service, Sales, Exec-managerial, Prof-specialty, Handlers-cleaners, Machine-op-inspct, Adm-clerical, Farming-fishing, Transport-moving, Priv-house-serv, Protective-serv, Armed-Forces.\n",
    "\n",
    "- Relationship: Wife, Own-child, Husband, Not-in-family, Other-relative, Unmarried.\n",
    "\n",
    "- Race: White, Asian-Pac-Islander, Amer-Indian-Eskimo, Other, Black.\n",
    "\n",
    "- Genger: Female, Male.\n",
    "\n",
    "- Capital_gain: continuous.\n",
    "\n",
    "- Capital_loss: continuous.\n",
    "\n",
    "- Hours_per_week: continuous.\n",
    "\n",
    "- Country: United-States, Cambodia, England, Puerto-Rico, Canada, Germany, Outlying-US(Guam-USVI-etc), India, Japan, Greece, South, China, Cuba, Iran, Honduras, Philippines, Italy, Poland, Jamaica, Vietnam, Mexico, Portugal, Ireland, France, Dominican-Republic, Laos, Ecuador, Taiwan, Haiti, Columbia, Hungary, Guatemala, Nicaragua, Scotland, Thailand, Yugoslavia, El-Salvador, Trinadad&Tobago, Peru, Hong, Holand-Netherlands.\n",
    "\n",
    "- Salary: \n",
    "```"
   ]
  },
  {
   "cell_type": "markdown",
   "id": "53fbe568",
   "metadata": {},
   "source": [
    "**Importing the necessary libraries**"
   ]
  },
  {
   "cell_type": "code",
   "execution_count": 1,
   "id": "7f659c96-b085-483c-960c-16b53a0312e3",
   "metadata": {
    "id": "7f659c96-b085-483c-960c-16b53a0312e3"
   },
   "outputs": [
    {
     "data": {
      "application/javascript": [
       "\n",
       "            setTimeout(function() {\n",
       "                var nbb_cell_id = 1;\n",
       "                var nbb_unformatted_code = \"# Built-in library\\nimport itertools\\n\\n# Standard imports\\nimport numpy as np\\nimport pandas as pd\\nimport seaborn as sns\\n\\nfrom sklearn.linear_model import LogisticRegression\\nfrom sklearn.model_selection import train_test_split\\nfrom sklearn.compose import ColumnTransformer\\nfrom sklearn.pipeline import Pipeline\\nfrom sklearn.preprocessing import OrdinalEncoder, MinMaxScaler\\nfrom sklearn.metrics import ( accuracy_score, precision_score, recall_score)\\n\\n# pandas settings\\npd.options.display.max_rows = 1_000\\npd.options.display.max_columns = 1_000\\npd.options.display.max_colwidth = 1_000\\n\\n\\n# Black code formatter (Optional)\\n%load_ext nb_black\";\n",
       "                var nbb_formatted_code = \"# Built-in library\\nimport itertools\\n\\n# Standard imports\\nimport numpy as np\\nimport pandas as pd\\nimport seaborn as sns\\n\\nfrom sklearn.linear_model import LogisticRegression\\nfrom sklearn.model_selection import train_test_split\\nfrom sklearn.compose import ColumnTransformer\\nfrom sklearn.pipeline import Pipeline\\nfrom sklearn.preprocessing import OrdinalEncoder, MinMaxScaler\\nfrom sklearn.metrics import accuracy_score, precision_score, recall_score\\n\\n# pandas settings\\npd.options.display.max_rows = 1_000\\npd.options.display.max_columns = 1_000\\npd.options.display.max_colwidth = 1_000\\n\\n\\n# Black code formatter (Optional)\\n%load_ext nb_black\";\n",
       "                var nbb_cells = Jupyter.notebook.get_cells();\n",
       "                for (var i = 0; i < nbb_cells.length; ++i) {\n",
       "                    if (nbb_cells[i].input_prompt_number == nbb_cell_id) {\n",
       "                        if (nbb_cells[i].get_text() == nbb_unformatted_code) {\n",
       "                             nbb_cells[i].set_text(nbb_formatted_code);\n",
       "                        }\n",
       "                        break;\n",
       "                    }\n",
       "                }\n",
       "            }, 500);\n",
       "            "
      ],
      "text/plain": [
       "<IPython.core.display.Javascript object>"
      ]
     },
     "metadata": {},
     "output_type": "display_data"
    }
   ],
   "source": [
    "# Built-in library\n",
    "import itertools\n",
    "\n",
    "# Standard imports\n",
    "import numpy as np\n",
    "import pandas as pd\n",
    "import seaborn as sns\n",
    "\n",
    "from sklearn.linear_model import LogisticRegression\n",
    "from sklearn.model_selection import train_test_split\n",
    "from sklearn.compose import ColumnTransformer\n",
    "from sklearn.pipeline import Pipeline\n",
    "from sklearn.preprocessing import OrdinalEncoder, MinMaxScaler\n",
    "from sklearn.metrics import accuracy_score, precision_score, recall_score\n",
    "\n",
    "# pandas settings\n",
    "pd.options.display.max_rows = 1_000\n",
    "pd.options.display.max_columns = 1_000\n",
    "pd.options.display.max_colwidth = 1_000\n",
    "\n",
    "\n",
    "# Black code formatter (Optional)\n",
    "%load_ext nb_black"
   ]
  },
  {
   "cell_type": "code",
   "execution_count": 2,
   "id": "a0038bcd-5c4a-44f9-abe7-e3887fec07aa",
   "metadata": {
    "id": "a0038bcd-5c4a-44f9-abe7-e3887fec07aa"
   },
   "outputs": [
    {
     "data": {
      "text/html": [
       "<div>\n",
       "<style scoped>\n",
       "    .dataframe tbody tr th:only-of-type {\n",
       "        vertical-align: middle;\n",
       "    }\n",
       "\n",
       "    .dataframe tbody tr th {\n",
       "        vertical-align: top;\n",
       "    }\n",
       "\n",
       "    .dataframe thead th {\n",
       "        text-align: right;\n",
       "    }\n",
       "</style>\n",
       "<table border=\"1\" class=\"dataframe\">\n",
       "  <thead>\n",
       "    <tr style=\"text-align: right;\">\n",
       "      <th></th>\n",
       "      <th>Age</th>\n",
       "      <th>Workclass</th>\n",
       "      <th>Final_weight</th>\n",
       "      <th>Education</th>\n",
       "      <th>Education_num</th>\n",
       "      <th>Marital_status</th>\n",
       "      <th>Occupation</th>\n",
       "      <th>Relationship</th>\n",
       "      <th>Race</th>\n",
       "      <th>Sex</th>\n",
       "      <th>Capital_gain</th>\n",
       "      <th>Capital_loss</th>\n",
       "      <th>Hours_per_week</th>\n",
       "      <th>Country</th>\n",
       "      <th>Salary</th>\n",
       "    </tr>\n",
       "  </thead>\n",
       "  <tbody>\n",
       "    <tr>\n",
       "      <th>0</th>\n",
       "      <td>50</td>\n",
       "      <td>Self-emp-not-inc</td>\n",
       "      <td>83311</td>\n",
       "      <td>Bachelors</td>\n",
       "      <td>13</td>\n",
       "      <td>Married-civ-spouse</td>\n",
       "      <td>Exec-managerial</td>\n",
       "      <td>Husband</td>\n",
       "      <td>White</td>\n",
       "      <td>Male</td>\n",
       "      <td>0</td>\n",
       "      <td>0</td>\n",
       "      <td>13</td>\n",
       "      <td>United-States</td>\n",
       "      <td>&lt;=50K</td>\n",
       "    </tr>\n",
       "    <tr>\n",
       "      <th>1</th>\n",
       "      <td>38</td>\n",
       "      <td>Private</td>\n",
       "      <td>215646</td>\n",
       "      <td>HS-grad</td>\n",
       "      <td>9</td>\n",
       "      <td>Divorced</td>\n",
       "      <td>Handlers-cleaners</td>\n",
       "      <td>Not-in-family</td>\n",
       "      <td>White</td>\n",
       "      <td>Male</td>\n",
       "      <td>0</td>\n",
       "      <td>0</td>\n",
       "      <td>40</td>\n",
       "      <td>United-States</td>\n",
       "      <td>&lt;=50K</td>\n",
       "    </tr>\n",
       "    <tr>\n",
       "      <th>2</th>\n",
       "      <td>53</td>\n",
       "      <td>Private</td>\n",
       "      <td>234721</td>\n",
       "      <td>11th</td>\n",
       "      <td>7</td>\n",
       "      <td>Married-civ-spouse</td>\n",
       "      <td>Handlers-cleaners</td>\n",
       "      <td>Husband</td>\n",
       "      <td>Black</td>\n",
       "      <td>Male</td>\n",
       "      <td>0</td>\n",
       "      <td>0</td>\n",
       "      <td>40</td>\n",
       "      <td>United-States</td>\n",
       "      <td>&lt;=50K</td>\n",
       "    </tr>\n",
       "    <tr>\n",
       "      <th>3</th>\n",
       "      <td>28</td>\n",
       "      <td>Private</td>\n",
       "      <td>338409</td>\n",
       "      <td>Bachelors</td>\n",
       "      <td>13</td>\n",
       "      <td>Married-civ-spouse</td>\n",
       "      <td>Prof-specialty</td>\n",
       "      <td>Wife</td>\n",
       "      <td>Black</td>\n",
       "      <td>Female</td>\n",
       "      <td>0</td>\n",
       "      <td>0</td>\n",
       "      <td>40</td>\n",
       "      <td>Cuba</td>\n",
       "      <td>&lt;=50K</td>\n",
       "    </tr>\n",
       "    <tr>\n",
       "      <th>4</th>\n",
       "      <td>37</td>\n",
       "      <td>Private</td>\n",
       "      <td>284582</td>\n",
       "      <td>Masters</td>\n",
       "      <td>14</td>\n",
       "      <td>Married-civ-spouse</td>\n",
       "      <td>Exec-managerial</td>\n",
       "      <td>Wife</td>\n",
       "      <td>White</td>\n",
       "      <td>Female</td>\n",
       "      <td>0</td>\n",
       "      <td>0</td>\n",
       "      <td>40</td>\n",
       "      <td>United-States</td>\n",
       "      <td>&lt;=50K</td>\n",
       "    </tr>\n",
       "  </tbody>\n",
       "</table>\n",
       "</div>"
      ],
      "text/plain": [
       "   Age         Workclass  Final_weight  Education  Education_num   \n",
       "0   50  Self-emp-not-inc         83311  Bachelors             13  \\\n",
       "1   38           Private        215646    HS-grad              9   \n",
       "2   53           Private        234721       11th              7   \n",
       "3   28           Private        338409  Bachelors             13   \n",
       "4   37           Private        284582    Masters             14   \n",
       "\n",
       "       Marital_status         Occupation   Relationship   Race     Sex   \n",
       "0  Married-civ-spouse    Exec-managerial        Husband  White    Male  \\\n",
       "1            Divorced  Handlers-cleaners  Not-in-family  White    Male   \n",
       "2  Married-civ-spouse  Handlers-cleaners        Husband  Black    Male   \n",
       "3  Married-civ-spouse     Prof-specialty           Wife  Black  Female   \n",
       "4  Married-civ-spouse    Exec-managerial           Wife  White  Female   \n",
       "\n",
       "   Capital_gain  Capital_loss  Hours_per_week        Country Salary  \n",
       "0             0             0              13  United-States  <=50K  \n",
       "1             0             0              40  United-States  <=50K  \n",
       "2             0             0              40  United-States  <=50K  \n",
       "3             0             0              40           Cuba  <=50K  \n",
       "4             0             0              40  United-States  <=50K  "
      ]
     },
     "execution_count": 2,
     "metadata": {},
     "output_type": "execute_result"
    },
    {
     "data": {
      "application/javascript": [
       "\n",
       "            setTimeout(function() {\n",
       "                var nbb_cell_id = 2;\n",
       "                var nbb_unformatted_code = \"# Loading data\\ndf = pd.read_csv(\\\"salary.csv\\\", skipinitialspace=True)\\ndf.head()\";\n",
       "                var nbb_formatted_code = \"# Loading data\\ndf = pd.read_csv(\\\"salary.csv\\\", skipinitialspace=True)\\ndf.head()\";\n",
       "                var nbb_cells = Jupyter.notebook.get_cells();\n",
       "                for (var i = 0; i < nbb_cells.length; ++i) {\n",
       "                    if (nbb_cells[i].input_prompt_number == nbb_cell_id) {\n",
       "                        if (nbb_cells[i].get_text() == nbb_unformatted_code) {\n",
       "                             nbb_cells[i].set_text(nbb_formatted_code);\n",
       "                        }\n",
       "                        break;\n",
       "                    }\n",
       "                }\n",
       "            }, 500);\n",
       "            "
      ],
      "text/plain": [
       "<IPython.core.display.Javascript object>"
      ]
     },
     "metadata": {},
     "output_type": "display_data"
    }
   ],
   "source": [
    "# Loading data\n",
    "df = pd.read_csv(\"salary.csv\", skipinitialspace=True)\n",
    "df.head()"
   ]
  },
  {
   "cell_type": "code",
   "execution_count": 3,
   "id": "2e0d3a49-67a1-433d-a7f8-6ff80d5ef799",
   "metadata": {
    "id": "2e0d3a49-67a1-433d-a7f8-6ff80d5ef799",
    "scrolled": true
   },
   "outputs": [
    {
     "name": "stdout",
     "output_type": "stream",
     "text": [
      "<class 'pandas.core.frame.DataFrame'>\n",
      "RangeIndex: 32560 entries, 0 to 32559\n",
      "Data columns (total 15 columns):\n",
      " #   Column          Non-Null Count  Dtype \n",
      "---  ------          --------------  ----- \n",
      " 0   Age             32560 non-null  int64 \n",
      " 1   Workclass       32560 non-null  object\n",
      " 2   Final_weight    32560 non-null  int64 \n",
      " 3   Education       32560 non-null  object\n",
      " 4   Education_num   32560 non-null  int64 \n",
      " 5   Marital_status  32560 non-null  object\n",
      " 6   Occupation      32560 non-null  object\n",
      " 7   Relationship    32560 non-null  object\n",
      " 8   Race            32560 non-null  object\n",
      " 9   Sex             32560 non-null  object\n",
      " 10  Capital_gain    32560 non-null  int64 \n",
      " 11  Capital_loss    32560 non-null  int64 \n",
      " 12  Hours_per_week  32560 non-null  int64 \n",
      " 13  Country         32560 non-null  object\n",
      " 14  Salary          32560 non-null  object\n",
      "dtypes: int64(6), object(9)\n",
      "memory usage: 3.7+ MB\n"
     ]
    },
    {
     "data": {
      "application/javascript": [
       "\n",
       "            setTimeout(function() {\n",
       "                var nbb_cell_id = 3;\n",
       "                var nbb_unformatted_code = \"# Checking for more info\\ndf.info()\";\n",
       "                var nbb_formatted_code = \"# Checking for more info\\ndf.info()\";\n",
       "                var nbb_cells = Jupyter.notebook.get_cells();\n",
       "                for (var i = 0; i < nbb_cells.length; ++i) {\n",
       "                    if (nbb_cells[i].input_prompt_number == nbb_cell_id) {\n",
       "                        if (nbb_cells[i].get_text() == nbb_unformatted_code) {\n",
       "                             nbb_cells[i].set_text(nbb_formatted_code);\n",
       "                        }\n",
       "                        break;\n",
       "                    }\n",
       "                }\n",
       "            }, 500);\n",
       "            "
      ],
      "text/plain": [
       "<IPython.core.display.Javascript object>"
      ]
     },
     "metadata": {},
     "output_type": "display_data"
    }
   ],
   "source": [
    "# Checking for more info\n",
    "df.info()"
   ]
  },
  {
   "cell_type": "code",
   "execution_count": 4,
   "id": "9162fe35",
   "metadata": {
    "id": "433bc74d-6a56-4f77-90be-7d848324ec94",
    "scrolled": true
   },
   "outputs": [
    {
     "data": {
      "text/plain": [
       "Age               0\n",
       "Workclass         0\n",
       "Final_weight      0\n",
       "Education         0\n",
       "Education_num     0\n",
       "Marital_status    0\n",
       "Occupation        0\n",
       "Relationship      0\n",
       "Race              0\n",
       "Sex               0\n",
       "Capital_gain      0\n",
       "Capital_loss      0\n",
       "Hours_per_week    0\n",
       "Country           0\n",
       "Salary            0\n",
       "dtype: int64"
      ]
     },
     "execution_count": 4,
     "metadata": {},
     "output_type": "execute_result"
    },
    {
     "data": {
      "application/javascript": [
       "\n",
       "            setTimeout(function() {\n",
       "                var nbb_cell_id = 4;\n",
       "                var nbb_unformatted_code = \"# Checking for null values\\ndf.isna().sum()\";\n",
       "                var nbb_formatted_code = \"# Checking for null values\\ndf.isna().sum()\";\n",
       "                var nbb_cells = Jupyter.notebook.get_cells();\n",
       "                for (var i = 0; i < nbb_cells.length; ++i) {\n",
       "                    if (nbb_cells[i].input_prompt_number == nbb_cell_id) {\n",
       "                        if (nbb_cells[i].get_text() == nbb_unformatted_code) {\n",
       "                             nbb_cells[i].set_text(nbb_formatted_code);\n",
       "                        }\n",
       "                        break;\n",
       "                    }\n",
       "                }\n",
       "            }, 500);\n",
       "            "
      ],
      "text/plain": [
       "<IPython.core.display.Javascript object>"
      ]
     },
     "metadata": {},
     "output_type": "display_data"
    }
   ],
   "source": [
    "# Checking for null values\n",
    "df.isna().sum()"
   ]
  },
  {
   "cell_type": "markdown",
   "id": "482a1494-fdea-4f0e-9c10-5da52b6540e3",
   "metadata": {},
   "source": [
    "<a id=\"dataprep\"></a>\n",
    "## Data preprocessing\n",
    "\n",
    "### Discretisation of variables\n",
    "\n",
    "Mapping the different categorical variables"
   ]
  },
  {
   "cell_type": "code",
   "execution_count": 5,
   "id": "c4214870",
   "metadata": {
    "id": "433bc74d-6a56-4f77-90be-7d848324ec94"
   },
   "outputs": [
    {
     "data": {
      "text/plain": [
       "array(['Unemployed', 'Employed'], dtype=object)"
      ]
     },
     "execution_count": 5,
     "metadata": {},
     "output_type": "execute_result"
    },
    {
     "data": {
      "application/javascript": [
       "\n",
       "            setTimeout(function() {\n",
       "                var nbb_cell_id = 5;\n",
       "                var nbb_unformatted_code = \"# Discretisation of Workclass Variable\\nwc_mapper = {\\n    \\\"Private\\\": \\\"Employed\\\",\\n    \\\"Self-emp-inc\\\": \\\"Employed\\\",\\n    \\\"?\\\": \\\"Unemployed\\\",\\n    \\\"Local-gov\\\": \\\"Employed\\\",\\n    \\\"Self-emp-not-inc\\\": \\\"Unemployed\\\",\\n    \\\"Federal-gov\\\": \\\"Employed\\\",\\n    \\\"State-gov\\\": \\\"Employed\\\",\\n    \\\"Never-worked\\\": \\\"Unemployed\\\",\\n    \\\"Without-pay\\\": \\\"Unemployed\\\",\\n}\\n\\ndf[\\\"Workclass\\\"] = df[\\\"Workclass\\\"].map(wc_mapper)\\ndf[\\\"Workclass\\\"].unique()\";\n",
       "                var nbb_formatted_code = \"# Discretisation of Workclass Variable\\nwc_mapper = {\\n    \\\"Private\\\": \\\"Employed\\\",\\n    \\\"Self-emp-inc\\\": \\\"Employed\\\",\\n    \\\"?\\\": \\\"Unemployed\\\",\\n    \\\"Local-gov\\\": \\\"Employed\\\",\\n    \\\"Self-emp-not-inc\\\": \\\"Unemployed\\\",\\n    \\\"Federal-gov\\\": \\\"Employed\\\",\\n    \\\"State-gov\\\": \\\"Employed\\\",\\n    \\\"Never-worked\\\": \\\"Unemployed\\\",\\n    \\\"Without-pay\\\": \\\"Unemployed\\\",\\n}\\n\\ndf[\\\"Workclass\\\"] = df[\\\"Workclass\\\"].map(wc_mapper)\\ndf[\\\"Workclass\\\"].unique()\";\n",
       "                var nbb_cells = Jupyter.notebook.get_cells();\n",
       "                for (var i = 0; i < nbb_cells.length; ++i) {\n",
       "                    if (nbb_cells[i].input_prompt_number == nbb_cell_id) {\n",
       "                        if (nbb_cells[i].get_text() == nbb_unformatted_code) {\n",
       "                             nbb_cells[i].set_text(nbb_formatted_code);\n",
       "                        }\n",
       "                        break;\n",
       "                    }\n",
       "                }\n",
       "            }, 500);\n",
       "            "
      ],
      "text/plain": [
       "<IPython.core.display.Javascript object>"
      ]
     },
     "metadata": {},
     "output_type": "display_data"
    }
   ],
   "source": [
    "# Discretisation of Workclass Variable\n",
    "wc_mapper = {\n",
    "    \"Private\": \"Employed\",\n",
    "    \"Self-emp-inc\": \"Employed\",\n",
    "    \"?\": \"Unemployed\",\n",
    "    \"Local-gov\": \"Employed\",\n",
    "    \"Self-emp-not-inc\": \"Unemployed\",\n",
    "    \"Federal-gov\": \"Employed\",\n",
    "    \"State-gov\": \"Employed\",\n",
    "    \"Never-worked\": \"Unemployed\",\n",
    "    \"Without-pay\": \"Unemployed\",\n",
    "}\n",
    "\n",
    "df[\"Workclass\"] = df[\"Workclass\"].map(wc_mapper)\n",
    "df[\"Workclass\"].unique()"
   ]
  },
  {
   "cell_type": "code",
   "execution_count": 6,
   "id": "48089183",
   "metadata": {
    "id": "433bc74d-6a56-4f77-90be-7d848324ec94"
   },
   "outputs": [
    {
     "data": {
      "text/plain": [
       "array(['Married', 'Not_Married'], dtype=object)"
      ]
     },
     "execution_count": 6,
     "metadata": {},
     "output_type": "execute_result"
    },
    {
     "data": {
      "application/javascript": [
       "\n",
       "            setTimeout(function() {\n",
       "                var nbb_cell_id = 6;\n",
       "                var nbb_unformatted_code = \"# Discretisation of Marital_status Variable\\nmar_mapper = {\\n    \\\"Married-civ-spouse\\\": \\\"Married\\\",\\n    \\\"Never-married\\\": \\\"Not_Married\\\",\\n    \\\"Divorced\\\": \\\"Not_Married\\\",\\n    \\\"Separated\\\": \\\"Not_Married\\\",\\n    \\\"Widowed\\\": \\\"Not_Married\\\",\\n    \\\"Married-spouse-absent\\\": \\\"Married\\\",\\n    \\\"Married-AF-spouse\\\": \\\"Married\\\",\\n}\\n\\ndf[\\\"Marital_status\\\"] = df[\\\"Marital_status\\\"].map(mar_mapper)\\ndf[\\\"Marital_status\\\"].unique()\";\n",
       "                var nbb_formatted_code = \"# Discretisation of Marital_status Variable\\nmar_mapper = {\\n    \\\"Married-civ-spouse\\\": \\\"Married\\\",\\n    \\\"Never-married\\\": \\\"Not_Married\\\",\\n    \\\"Divorced\\\": \\\"Not_Married\\\",\\n    \\\"Separated\\\": \\\"Not_Married\\\",\\n    \\\"Widowed\\\": \\\"Not_Married\\\",\\n    \\\"Married-spouse-absent\\\": \\\"Married\\\",\\n    \\\"Married-AF-spouse\\\": \\\"Married\\\",\\n}\\n\\ndf[\\\"Marital_status\\\"] = df[\\\"Marital_status\\\"].map(mar_mapper)\\ndf[\\\"Marital_status\\\"].unique()\";\n",
       "                var nbb_cells = Jupyter.notebook.get_cells();\n",
       "                for (var i = 0; i < nbb_cells.length; ++i) {\n",
       "                    if (nbb_cells[i].input_prompt_number == nbb_cell_id) {\n",
       "                        if (nbb_cells[i].get_text() == nbb_unformatted_code) {\n",
       "                             nbb_cells[i].set_text(nbb_formatted_code);\n",
       "                        }\n",
       "                        break;\n",
       "                    }\n",
       "                }\n",
       "            }, 500);\n",
       "            "
      ],
      "text/plain": [
       "<IPython.core.display.Javascript object>"
      ]
     },
     "metadata": {},
     "output_type": "display_data"
    }
   ],
   "source": [
    "# Discretisation of Marital_status Variable\n",
    "mar_mapper = {\n",
    "    \"Married-civ-spouse\": \"Married\",\n",
    "    \"Never-married\": \"Not_Married\",\n",
    "    \"Divorced\": \"Not_Married\",\n",
    "    \"Separated\": \"Not_Married\",\n",
    "    \"Widowed\": \"Not_Married\",\n",
    "    \"Married-spouse-absent\": \"Married\",\n",
    "    \"Married-AF-spouse\": \"Married\",\n",
    "}\n",
    "\n",
    "df[\"Marital_status\"] = df[\"Marital_status\"].map(mar_mapper)\n",
    "df[\"Marital_status\"].unique()"
   ]
  },
  {
   "cell_type": "code",
   "execution_count": 7,
   "id": "aa701326",
   "metadata": {
    "id": "433bc74d-6a56-4f77-90be-7d848324ec94"
   },
   "outputs": [
    {
     "data": {
      "text/plain": [
       "array(['Non_technical', 'Professional', 'Other_service'], dtype=object)"
      ]
     },
     "execution_count": 7,
     "metadata": {},
     "output_type": "execute_result"
    },
    {
     "data": {
      "application/javascript": [
       "\n",
       "            setTimeout(function() {\n",
       "                var nbb_cell_id = 7;\n",
       "                var nbb_unformatted_code = \"# Discretisation of Occupation Variable\\noccupation_mapper = {\\n    \\\"Prof-specialty\\\": \\\"Professional\\\",\\n    \\\"Craft-repair\\\": \\\"Non_technical\\\",\\n    \\\"Exec-managerial\\\": \\\"Non_technical\\\",\\n    \\\"Adm-clerical\\\": \\\"Non_technical\\\",\\n    \\\"Sales\\\": \\\"Non_technical\\\",\\n    \\\"Other-service\\\": \\\"Other_service\\\",\\n    \\\"Machine-op-inspct\\\": \\\"Professional\\\",\\n    \\\"?\\\": \\\"Other_service\\\",\\n    \\\"Transport-moving\\\": \\\"Non_technical\\\",\\n    \\\"Handlers-cleaners\\\": \\\"Non_technical\\\",\\n    \\\"Farming-fishing\\\": \\\"Non_technical\\\",\\n    \\\"Tech-support\\\": \\\"Professional\\\",\\n    \\\"Protective-serv\\\": \\\"Other_service\\\",\\n    \\\"Priv-house-serv\\\": \\\"Other_service\\\",\\n    \\\"Armed-Forces\\\": \\\"Other_service\\\",\\n}\\n\\ndf[\\\"Occupation\\\"] = df[\\\"Occupation\\\"].map(occupation_mapper)\\ndf[\\\"Occupation\\\"].unique()\";\n",
       "                var nbb_formatted_code = \"# Discretisation of Occupation Variable\\noccupation_mapper = {\\n    \\\"Prof-specialty\\\": \\\"Professional\\\",\\n    \\\"Craft-repair\\\": \\\"Non_technical\\\",\\n    \\\"Exec-managerial\\\": \\\"Non_technical\\\",\\n    \\\"Adm-clerical\\\": \\\"Non_technical\\\",\\n    \\\"Sales\\\": \\\"Non_technical\\\",\\n    \\\"Other-service\\\": \\\"Other_service\\\",\\n    \\\"Machine-op-inspct\\\": \\\"Professional\\\",\\n    \\\"?\\\": \\\"Other_service\\\",\\n    \\\"Transport-moving\\\": \\\"Non_technical\\\",\\n    \\\"Handlers-cleaners\\\": \\\"Non_technical\\\",\\n    \\\"Farming-fishing\\\": \\\"Non_technical\\\",\\n    \\\"Tech-support\\\": \\\"Professional\\\",\\n    \\\"Protective-serv\\\": \\\"Other_service\\\",\\n    \\\"Priv-house-serv\\\": \\\"Other_service\\\",\\n    \\\"Armed-Forces\\\": \\\"Other_service\\\",\\n}\\n\\ndf[\\\"Occupation\\\"] = df[\\\"Occupation\\\"].map(occupation_mapper)\\ndf[\\\"Occupation\\\"].unique()\";\n",
       "                var nbb_cells = Jupyter.notebook.get_cells();\n",
       "                for (var i = 0; i < nbb_cells.length; ++i) {\n",
       "                    if (nbb_cells[i].input_prompt_number == nbb_cell_id) {\n",
       "                        if (nbb_cells[i].get_text() == nbb_unformatted_code) {\n",
       "                             nbb_cells[i].set_text(nbb_formatted_code);\n",
       "                        }\n",
       "                        break;\n",
       "                    }\n",
       "                }\n",
       "            }, 500);\n",
       "            "
      ],
      "text/plain": [
       "<IPython.core.display.Javascript object>"
      ]
     },
     "metadata": {},
     "output_type": "display_data"
    }
   ],
   "source": [
    "# Discretisation of Occupation Variable\n",
    "occupation_mapper = {\n",
    "    \"Prof-specialty\": \"Professional\",\n",
    "    \"Craft-repair\": \"Non_technical\",\n",
    "    \"Exec-managerial\": \"Non_technical\",\n",
    "    \"Adm-clerical\": \"Non_technical\",\n",
    "    \"Sales\": \"Non_technical\",\n",
    "    \"Other-service\": \"Other_service\",\n",
    "    \"Machine-op-inspct\": \"Professional\",\n",
    "    \"?\": \"Other_service\",\n",
    "    \"Transport-moving\": \"Non_technical\",\n",
    "    \"Handlers-cleaners\": \"Non_technical\",\n",
    "    \"Farming-fishing\": \"Non_technical\",\n",
    "    \"Tech-support\": \"Professional\",\n",
    "    \"Protective-serv\": \"Other_service\",\n",
    "    \"Priv-house-serv\": \"Other_service\",\n",
    "    \"Armed-Forces\": \"Other_service\",\n",
    "}\n",
    "\n",
    "df[\"Occupation\"] = df[\"Occupation\"].map(occupation_mapper)\n",
    "df[\"Occupation\"].unique()"
   ]
  },
  {
   "cell_type": "code",
   "execution_count": 8,
   "id": "b5aba263",
   "metadata": {
    "id": "433bc74d-6a56-4f77-90be-7d848324ec94",
    "scrolled": true
   },
   "outputs": [
    {
     "data": {
      "text/plain": [
       "array(['H', 'S', 'W', 'C', 'U', 'E'], dtype=object)"
      ]
     },
     "execution_count": 8,
     "metadata": {},
     "output_type": "execute_result"
    },
    {
     "data": {
      "application/javascript": [
       "\n",
       "            setTimeout(function() {\n",
       "                var nbb_cell_id = 8;\n",
       "                var nbb_unformatted_code = \"# Discretisation of Relationship Variable\\nrel_mapper = {\\n    \\\"Husband\\\": \\\"H\\\",\\n    \\\"Not-in-family\\\": \\\"S\\\",  # stranger\\n    \\\"Own-child\\\": \\\"C\\\",  # children\\n    \\\"Unmarried\\\": \\\"U\\\",\\n    \\\"Wife\\\": \\\"W\\\",\\n    \\\"Other-relative\\\": \\\"E\\\",  # extended family\\n}\\n\\ndf[\\\"Relationship\\\"] = df[\\\"Relationship\\\"].map(rel_mapper)\\ndf[\\\"Relationship\\\"].unique()\";\n",
       "                var nbb_formatted_code = \"# Discretisation of Relationship Variable\\nrel_mapper = {\\n    \\\"Husband\\\": \\\"H\\\",\\n    \\\"Not-in-family\\\": \\\"S\\\",  # stranger\\n    \\\"Own-child\\\": \\\"C\\\",  # children\\n    \\\"Unmarried\\\": \\\"U\\\",\\n    \\\"Wife\\\": \\\"W\\\",\\n    \\\"Other-relative\\\": \\\"E\\\",  # extended family\\n}\\n\\ndf[\\\"Relationship\\\"] = df[\\\"Relationship\\\"].map(rel_mapper)\\ndf[\\\"Relationship\\\"].unique()\";\n",
       "                var nbb_cells = Jupyter.notebook.get_cells();\n",
       "                for (var i = 0; i < nbb_cells.length; ++i) {\n",
       "                    if (nbb_cells[i].input_prompt_number == nbb_cell_id) {\n",
       "                        if (nbb_cells[i].get_text() == nbb_unformatted_code) {\n",
       "                             nbb_cells[i].set_text(nbb_formatted_code);\n",
       "                        }\n",
       "                        break;\n",
       "                    }\n",
       "                }\n",
       "            }, 500);\n",
       "            "
      ],
      "text/plain": [
       "<IPython.core.display.Javascript object>"
      ]
     },
     "metadata": {},
     "output_type": "display_data"
    }
   ],
   "source": [
    "# Discretisation of Relationship Variable\n",
    "rel_mapper = {\n",
    "    \"Husband\": \"H\",\n",
    "    \"Not-in-family\": \"S\",  # stranger\n",
    "    \"Own-child\": \"C\",  # children\n",
    "    \"Unmarried\": \"U\",\n",
    "    \"Wife\": \"W\",\n",
    "    \"Other-relative\": \"E\",  # extended family\n",
    "}\n",
    "\n",
    "df[\"Relationship\"] = df[\"Relationship\"].map(rel_mapper)\n",
    "df[\"Relationship\"].unique()"
   ]
  },
  {
   "cell_type": "code",
   "execution_count": 9,
   "id": "937b179f",
   "metadata": {
    "id": "433bc74d-6a56-4f77-90be-7d848324ec94"
   },
   "outputs": [
    {
     "data": {
      "text/plain": [
       "array(['White', 'Black', 'Other'], dtype=object)"
      ]
     },
     "execution_count": 9,
     "metadata": {},
     "output_type": "execute_result"
    },
    {
     "data": {
      "application/javascript": [
       "\n",
       "            setTimeout(function() {\n",
       "                var nbb_cell_id = 9;\n",
       "                var nbb_unformatted_code = \"# Discretisation of Race Variable\\nrace_mapper = {\\n    \\\"White\\\": \\\"White\\\",\\n    \\\"Black\\\": \\\"Black\\\",\\n    \\\"Asian-Pac-Islander\\\": \\\"Other\\\",\\n    \\\"Amer-Indian-Eskimo\\\": \\\"Other\\\",\\n    \\\"Other\\\": \\\"Other\\\",\\n}\\n\\ndf[\\\"Race\\\"] = df[\\\"Race\\\"].map(race_mapper)\\ndf[\\\"Race\\\"].unique()\";\n",
       "                var nbb_formatted_code = \"# Discretisation of Race Variable\\nrace_mapper = {\\n    \\\"White\\\": \\\"White\\\",\\n    \\\"Black\\\": \\\"Black\\\",\\n    \\\"Asian-Pac-Islander\\\": \\\"Other\\\",\\n    \\\"Amer-Indian-Eskimo\\\": \\\"Other\\\",\\n    \\\"Other\\\": \\\"Other\\\",\\n}\\n\\ndf[\\\"Race\\\"] = df[\\\"Race\\\"].map(race_mapper)\\ndf[\\\"Race\\\"].unique()\";\n",
       "                var nbb_cells = Jupyter.notebook.get_cells();\n",
       "                for (var i = 0; i < nbb_cells.length; ++i) {\n",
       "                    if (nbb_cells[i].input_prompt_number == nbb_cell_id) {\n",
       "                        if (nbb_cells[i].get_text() == nbb_unformatted_code) {\n",
       "                             nbb_cells[i].set_text(nbb_formatted_code);\n",
       "                        }\n",
       "                        break;\n",
       "                    }\n",
       "                }\n",
       "            }, 500);\n",
       "            "
      ],
      "text/plain": [
       "<IPython.core.display.Javascript object>"
      ]
     },
     "metadata": {},
     "output_type": "display_data"
    }
   ],
   "source": [
    "# Discretisation of Race Variable\n",
    "race_mapper = {\n",
    "    \"White\": \"White\",\n",
    "    \"Black\": \"Black\",\n",
    "    \"Asian-Pac-Islander\": \"Other\",\n",
    "    \"Amer-Indian-Eskimo\": \"Other\",\n",
    "    \"Other\": \"Other\",\n",
    "}\n",
    "\n",
    "df[\"Race\"] = df[\"Race\"].map(race_mapper)\n",
    "df[\"Race\"].unique()"
   ]
  },
  {
   "cell_type": "code",
   "execution_count": 10,
   "id": "24ad66dd",
   "metadata": {},
   "outputs": [
    {
     "data": {
      "text/plain": [
       "(32560, 13)"
      ]
     },
     "execution_count": 10,
     "metadata": {},
     "output_type": "execute_result"
    },
    {
     "data": {
      "application/javascript": [
       "\n",
       "            setTimeout(function() {\n",
       "                var nbb_cell_id = 10;\n",
       "                var nbb_unformatted_code = \"# Dropping columns not to be used\\nvars_to_drop = [\\\"Education_num\\\", \\\"Country\\\"]\\ndf.drop(columns=vars_to_drop, inplace=True)\\n\\ndf.shape\";\n",
       "                var nbb_formatted_code = \"# Dropping columns not to be used\\nvars_to_drop = [\\\"Education_num\\\", \\\"Country\\\"]\\ndf.drop(columns=vars_to_drop, inplace=True)\\n\\ndf.shape\";\n",
       "                var nbb_cells = Jupyter.notebook.get_cells();\n",
       "                for (var i = 0; i < nbb_cells.length; ++i) {\n",
       "                    if (nbb_cells[i].input_prompt_number == nbb_cell_id) {\n",
       "                        if (nbb_cells[i].get_text() == nbb_unformatted_code) {\n",
       "                             nbb_cells[i].set_text(nbb_formatted_code);\n",
       "                        }\n",
       "                        break;\n",
       "                    }\n",
       "                }\n",
       "            }, 500);\n",
       "            "
      ],
      "text/plain": [
       "<IPython.core.display.Javascript object>"
      ]
     },
     "metadata": {},
     "output_type": "display_data"
    }
   ],
   "source": [
    "# Dropping columns not to be used\n",
    "vars_to_drop = [\"Education_num\", \"Country\"]\n",
    "df.drop(columns=vars_to_drop, inplace=True)\n",
    "\n",
    "df.shape"
   ]
  },
  {
   "cell_type": "code",
   "execution_count": 11,
   "id": "433bc74d-6a56-4f77-90be-7d848324ec94",
   "metadata": {
    "id": "433bc74d-6a56-4f77-90be-7d848324ec94"
   },
   "outputs": [
    {
     "data": {
      "text/html": [
       "<div>\n",
       "<style scoped>\n",
       "    .dataframe tbody tr th:only-of-type {\n",
       "        vertical-align: middle;\n",
       "    }\n",
       "\n",
       "    .dataframe tbody tr th {\n",
       "        vertical-align: top;\n",
       "    }\n",
       "\n",
       "    .dataframe thead th {\n",
       "        text-align: right;\n",
       "    }\n",
       "</style>\n",
       "<table border=\"1\" class=\"dataframe\">\n",
       "  <thead>\n",
       "    <tr style=\"text-align: right;\">\n",
       "      <th></th>\n",
       "      <th>Age</th>\n",
       "      <th>Final_weight</th>\n",
       "      <th>Capital_gain</th>\n",
       "      <th>Capital_loss</th>\n",
       "      <th>Hours_per_week</th>\n",
       "    </tr>\n",
       "  </thead>\n",
       "  <tbody>\n",
       "    <tr>\n",
       "      <th>count</th>\n",
       "      <td>32560.000000</td>\n",
       "      <td>3.256000e+04</td>\n",
       "      <td>32560.000000</td>\n",
       "      <td>32560.000000</td>\n",
       "      <td>32560.000000</td>\n",
       "    </tr>\n",
       "    <tr>\n",
       "      <th>mean</th>\n",
       "      <td>38.581634</td>\n",
       "      <td>1.897818e+05</td>\n",
       "      <td>1077.615172</td>\n",
       "      <td>87.306511</td>\n",
       "      <td>40.437469</td>\n",
       "    </tr>\n",
       "    <tr>\n",
       "      <th>std</th>\n",
       "      <td>13.640642</td>\n",
       "      <td>1.055498e+05</td>\n",
       "      <td>7385.402999</td>\n",
       "      <td>402.966116</td>\n",
       "      <td>12.347618</td>\n",
       "    </tr>\n",
       "    <tr>\n",
       "      <th>min</th>\n",
       "      <td>17.000000</td>\n",
       "      <td>1.228500e+04</td>\n",
       "      <td>0.000000</td>\n",
       "      <td>0.000000</td>\n",
       "      <td>1.000000</td>\n",
       "    </tr>\n",
       "    <tr>\n",
       "      <th>25%</th>\n",
       "      <td>28.000000</td>\n",
       "      <td>1.178315e+05</td>\n",
       "      <td>0.000000</td>\n",
       "      <td>0.000000</td>\n",
       "      <td>40.000000</td>\n",
       "    </tr>\n",
       "    <tr>\n",
       "      <th>50%</th>\n",
       "      <td>37.000000</td>\n",
       "      <td>1.783630e+05</td>\n",
       "      <td>0.000000</td>\n",
       "      <td>0.000000</td>\n",
       "      <td>40.000000</td>\n",
       "    </tr>\n",
       "    <tr>\n",
       "      <th>75%</th>\n",
       "      <td>48.000000</td>\n",
       "      <td>2.370545e+05</td>\n",
       "      <td>0.000000</td>\n",
       "      <td>0.000000</td>\n",
       "      <td>45.000000</td>\n",
       "    </tr>\n",
       "    <tr>\n",
       "      <th>max</th>\n",
       "      <td>90.000000</td>\n",
       "      <td>1.484705e+06</td>\n",
       "      <td>99999.000000</td>\n",
       "      <td>4356.000000</td>\n",
       "      <td>99.000000</td>\n",
       "    </tr>\n",
       "  </tbody>\n",
       "</table>\n",
       "</div>"
      ],
      "text/plain": [
       "                Age  Final_weight  Capital_gain  Capital_loss  Hours_per_week\n",
       "count  32560.000000  3.256000e+04  32560.000000  32560.000000    32560.000000\n",
       "mean      38.581634  1.897818e+05   1077.615172     87.306511       40.437469\n",
       "std       13.640642  1.055498e+05   7385.402999    402.966116       12.347618\n",
       "min       17.000000  1.228500e+04      0.000000      0.000000        1.000000\n",
       "25%       28.000000  1.178315e+05      0.000000      0.000000       40.000000\n",
       "50%       37.000000  1.783630e+05      0.000000      0.000000       40.000000\n",
       "75%       48.000000  2.370545e+05      0.000000      0.000000       45.000000\n",
       "max       90.000000  1.484705e+06  99999.000000   4356.000000       99.000000"
      ]
     },
     "execution_count": 11,
     "metadata": {},
     "output_type": "execute_result"
    },
    {
     "data": {
      "application/javascript": [
       "\n",
       "            setTimeout(function() {\n",
       "                var nbb_cell_id = 11;\n",
       "                var nbb_unformatted_code = \"# View more info on numerical data\\nnum_data = df.select_dtypes(exclude=\\\"O\\\")\\nnum_data.describe()\";\n",
       "                var nbb_formatted_code = \"# View more info on numerical data\\nnum_data = df.select_dtypes(exclude=\\\"O\\\")\\nnum_data.describe()\";\n",
       "                var nbb_cells = Jupyter.notebook.get_cells();\n",
       "                for (var i = 0; i < nbb_cells.length; ++i) {\n",
       "                    if (nbb_cells[i].input_prompt_number == nbb_cell_id) {\n",
       "                        if (nbb_cells[i].get_text() == nbb_unformatted_code) {\n",
       "                             nbb_cells[i].set_text(nbb_formatted_code);\n",
       "                        }\n",
       "                        break;\n",
       "                    }\n",
       "                }\n",
       "            }, 500);\n",
       "            "
      ],
      "text/plain": [
       "<IPython.core.display.Javascript object>"
      ]
     },
     "metadata": {},
     "output_type": "display_data"
    }
   ],
   "source": [
    "# View more info on numerical data\n",
    "num_data = df.select_dtypes(exclude=\"O\")\n",
    "num_data.describe()"
   ]
  },
  {
   "cell_type": "code",
   "execution_count": 12,
   "id": "4ca250ce",
   "metadata": {
    "id": "433bc74d-6a56-4f77-90be-7d848324ec94"
   },
   "outputs": [
    {
     "data": {
      "text/html": [
       "<div>\n",
       "<style scoped>\n",
       "    .dataframe tbody tr th:only-of-type {\n",
       "        vertical-align: middle;\n",
       "    }\n",
       "\n",
       "    .dataframe tbody tr th {\n",
       "        vertical-align: top;\n",
       "    }\n",
       "\n",
       "    .dataframe thead th {\n",
       "        text-align: right;\n",
       "    }\n",
       "</style>\n",
       "<table border=\"1\" class=\"dataframe\">\n",
       "  <thead>\n",
       "    <tr style=\"text-align: right;\">\n",
       "      <th></th>\n",
       "      <th>Workclass</th>\n",
       "      <th>Education</th>\n",
       "      <th>Marital_status</th>\n",
       "      <th>Occupation</th>\n",
       "      <th>Relationship</th>\n",
       "      <th>Race</th>\n",
       "      <th>Sex</th>\n",
       "      <th>Salary</th>\n",
       "    </tr>\n",
       "  </thead>\n",
       "  <tbody>\n",
       "    <tr>\n",
       "      <th>count</th>\n",
       "      <td>32560</td>\n",
       "      <td>32560</td>\n",
       "      <td>32560</td>\n",
       "      <td>32560</td>\n",
       "      <td>32560</td>\n",
       "      <td>32560</td>\n",
       "      <td>32560</td>\n",
       "      <td>32560</td>\n",
       "    </tr>\n",
       "    <tr>\n",
       "      <th>unique</th>\n",
       "      <td>2</td>\n",
       "      <td>16</td>\n",
       "      <td>2</td>\n",
       "      <td>3</td>\n",
       "      <td>6</td>\n",
       "      <td>3</td>\n",
       "      <td>2</td>\n",
       "      <td>2</td>\n",
       "    </tr>\n",
       "    <tr>\n",
       "      <th>top</th>\n",
       "      <td>Employed</td>\n",
       "      <td>HS-grad</td>\n",
       "      <td>Not_Married</td>\n",
       "      <td>Non_technical</td>\n",
       "      <td>H</td>\n",
       "      <td>White</td>\n",
       "      <td>Male</td>\n",
       "      <td>&lt;=50K</td>\n",
       "    </tr>\n",
       "    <tr>\n",
       "      <th>freq</th>\n",
       "      <td>28162</td>\n",
       "      <td>10501</td>\n",
       "      <td>17143</td>\n",
       "      <td>19545</td>\n",
       "      <td>13193</td>\n",
       "      <td>27815</td>\n",
       "      <td>21789</td>\n",
       "      <td>24719</td>\n",
       "    </tr>\n",
       "  </tbody>\n",
       "</table>\n",
       "</div>"
      ],
      "text/plain": [
       "       Workclass Education Marital_status     Occupation Relationship   Race   \n",
       "count      32560     32560          32560          32560        32560  32560  \\\n",
       "unique         2        16              2              3            6      3   \n",
       "top     Employed   HS-grad    Not_Married  Non_technical            H  White   \n",
       "freq       28162     10501          17143          19545        13193  27815   \n",
       "\n",
       "          Sex Salary  \n",
       "count   32560  32560  \n",
       "unique      2      2  \n",
       "top      Male  <=50K  \n",
       "freq    21789  24719  "
      ]
     },
     "execution_count": 12,
     "metadata": {},
     "output_type": "execute_result"
    },
    {
     "data": {
      "application/javascript": [
       "\n",
       "            setTimeout(function() {\n",
       "                var nbb_cell_id = 12;\n",
       "                var nbb_unformatted_code = \"# View caategorical properties\\ncat_data = df.select_dtypes(include=\\\"O\\\")\\ncat_data.describe()\";\n",
       "                var nbb_formatted_code = \"# View caategorical properties\\ncat_data = df.select_dtypes(include=\\\"O\\\")\\ncat_data.describe()\";\n",
       "                var nbb_cells = Jupyter.notebook.get_cells();\n",
       "                for (var i = 0; i < nbb_cells.length; ++i) {\n",
       "                    if (nbb_cells[i].input_prompt_number == nbb_cell_id) {\n",
       "                        if (nbb_cells[i].get_text() == nbb_unformatted_code) {\n",
       "                             nbb_cells[i].set_text(nbb_formatted_code);\n",
       "                        }\n",
       "                        break;\n",
       "                    }\n",
       "                }\n",
       "            }, 500);\n",
       "            "
      ],
      "text/plain": [
       "<IPython.core.display.Javascript object>"
      ]
     },
     "metadata": {},
     "output_type": "display_data"
    }
   ],
   "source": [
    "# View caategorical properties\n",
    "cat_data = df.select_dtypes(include=\"O\")\n",
    "cat_data.describe()"
   ]
  },
  {
   "cell_type": "code",
   "execution_count": 13,
   "id": "8d97d88b-8965-4006-9778-5a49bd519fbe",
   "metadata": {
    "id": "8d97d88b-8965-4006-9778-5a49bd519fbe"
   },
   "outputs": [
    {
     "data": {
      "text/html": [
       "<div>\n",
       "<style scoped>\n",
       "    .dataframe tbody tr th:only-of-type {\n",
       "        vertical-align: middle;\n",
       "    }\n",
       "\n",
       "    .dataframe tbody tr th {\n",
       "        vertical-align: top;\n",
       "    }\n",
       "\n",
       "    .dataframe thead th {\n",
       "        text-align: right;\n",
       "    }\n",
       "</style>\n",
       "<table border=\"1\" class=\"dataframe\">\n",
       "  <thead>\n",
       "    <tr style=\"text-align: right;\">\n",
       "      <th></th>\n",
       "      <th>Age</th>\n",
       "      <th>Final_weight</th>\n",
       "      <th>Capital_gain</th>\n",
       "      <th>Capital_loss</th>\n",
       "      <th>Hours_per_week</th>\n",
       "    </tr>\n",
       "  </thead>\n",
       "  <tbody>\n",
       "    <tr>\n",
       "      <th>Age</th>\n",
       "      <td>1.000000</td>\n",
       "      <td>-0.076646</td>\n",
       "      <td>0.077674</td>\n",
       "      <td>0.057775</td>\n",
       "      <td>0.068756</td>\n",
       "    </tr>\n",
       "    <tr>\n",
       "      <th>Final_weight</th>\n",
       "      <td>-0.076646</td>\n",
       "      <td>1.000000</td>\n",
       "      <td>0.000437</td>\n",
       "      <td>-0.010259</td>\n",
       "      <td>-0.018770</td>\n",
       "    </tr>\n",
       "    <tr>\n",
       "      <th>Capital_gain</th>\n",
       "      <td>0.077674</td>\n",
       "      <td>0.000437</td>\n",
       "      <td>1.000000</td>\n",
       "      <td>-0.031614</td>\n",
       "      <td>0.078409</td>\n",
       "    </tr>\n",
       "    <tr>\n",
       "      <th>Capital_loss</th>\n",
       "      <td>0.057775</td>\n",
       "      <td>-0.010259</td>\n",
       "      <td>-0.031614</td>\n",
       "      <td>1.000000</td>\n",
       "      <td>0.054256</td>\n",
       "    </tr>\n",
       "    <tr>\n",
       "      <th>Hours_per_week</th>\n",
       "      <td>0.068756</td>\n",
       "      <td>-0.018770</td>\n",
       "      <td>0.078409</td>\n",
       "      <td>0.054256</td>\n",
       "      <td>1.000000</td>\n",
       "    </tr>\n",
       "  </tbody>\n",
       "</table>\n",
       "</div>"
      ],
      "text/plain": [
       "                     Age  Final_weight  Capital_gain  Capital_loss   \n",
       "Age             1.000000     -0.076646      0.077674      0.057775  \\\n",
       "Final_weight   -0.076646      1.000000      0.000437     -0.010259   \n",
       "Capital_gain    0.077674      0.000437      1.000000     -0.031614   \n",
       "Capital_loss    0.057775     -0.010259     -0.031614      1.000000   \n",
       "Hours_per_week  0.068756     -0.018770      0.078409      0.054256   \n",
       "\n",
       "                Hours_per_week  \n",
       "Age                   0.068756  \n",
       "Final_weight         -0.018770  \n",
       "Capital_gain          0.078409  \n",
       "Capital_loss          0.054256  \n",
       "Hours_per_week        1.000000  "
      ]
     },
     "execution_count": 13,
     "metadata": {},
     "output_type": "execute_result"
    },
    {
     "data": {
      "application/javascript": [
       "\n",
       "            setTimeout(function() {\n",
       "                var nbb_cell_id = 13;\n",
       "                var nbb_unformatted_code = \"# Checking correlation between numerical data\\ncorr_matrix = num_data.corr()\\ncorr_matrix\";\n",
       "                var nbb_formatted_code = \"# Checking correlation between numerical data\\ncorr_matrix = num_data.corr()\\ncorr_matrix\";\n",
       "                var nbb_cells = Jupyter.notebook.get_cells();\n",
       "                for (var i = 0; i < nbb_cells.length; ++i) {\n",
       "                    if (nbb_cells[i].input_prompt_number == nbb_cell_id) {\n",
       "                        if (nbb_cells[i].get_text() == nbb_unformatted_code) {\n",
       "                             nbb_cells[i].set_text(nbb_formatted_code);\n",
       "                        }\n",
       "                        break;\n",
       "                    }\n",
       "                }\n",
       "            }, 500);\n",
       "            "
      ],
      "text/plain": [
       "<IPython.core.display.Javascript object>"
      ]
     },
     "metadata": {},
     "output_type": "display_data"
    }
   ],
   "source": [
    "# Checking correlation between numerical data\n",
    "corr_matrix = num_data.corr()\n",
    "corr_matrix"
   ]
  },
  {
   "cell_type": "code",
   "execution_count": 14,
   "id": "5787e545",
   "metadata": {},
   "outputs": [
    {
     "data": {
      "text/plain": [
       "array([0, 1], dtype=int64)"
      ]
     },
     "execution_count": 14,
     "metadata": {},
     "output_type": "execute_result"
    },
    {
     "data": {
      "application/javascript": [
       "\n",
       "            setTimeout(function() {\n",
       "                var nbb_cell_id = 14;\n",
       "                var nbb_unformatted_code = \"# Encoding target variable\\nsal_mapper = {\\n    \\\"<=50K\\\": 0,\\n    \\\">50K\\\": 1,\\n}\\n\\ndf[\\\"Salary\\\"] = df[\\\"Salary\\\"].map(sal_mapper)\\ndf[\\\"Salary\\\"].unique()\";\n",
       "                var nbb_formatted_code = \"# Encoding target variable\\nsal_mapper = {\\n    \\\"<=50K\\\": 0,\\n    \\\">50K\\\": 1,\\n}\\n\\ndf[\\\"Salary\\\"] = df[\\\"Salary\\\"].map(sal_mapper)\\ndf[\\\"Salary\\\"].unique()\";\n",
       "                var nbb_cells = Jupyter.notebook.get_cells();\n",
       "                for (var i = 0; i < nbb_cells.length; ++i) {\n",
       "                    if (nbb_cells[i].input_prompt_number == nbb_cell_id) {\n",
       "                        if (nbb_cells[i].get_text() == nbb_unformatted_code) {\n",
       "                             nbb_cells[i].set_text(nbb_formatted_code);\n",
       "                        }\n",
       "                        break;\n",
       "                    }\n",
       "                }\n",
       "            }, 500);\n",
       "            "
      ],
      "text/plain": [
       "<IPython.core.display.Javascript object>"
      ]
     },
     "metadata": {},
     "output_type": "display_data"
    }
   ],
   "source": [
    "# Encoding target variable\n",
    "sal_mapper = {\n",
    "    \"<=50K\": 0,\n",
    "    \">50K\": 1,\n",
    "}\n",
    "\n",
    "df[\"Salary\"] = df[\"Salary\"].map(sal_mapper)\n",
    "df[\"Salary\"].unique()"
   ]
  },
  {
   "cell_type": "markdown",
   "id": "8e93574f",
   "metadata": {},
   "source": [
    "<a id=\"modelbuild\"></a>\n",
    "## Model building\n",
    "\n",
    "Here the data is split into training and testing sets then trained with the logistic regression model."
   ]
  },
  {
   "cell_type": "markdown",
   "id": "881671ff",
   "metadata": {
    "id": "51c4c104-829d-45a3-9663-e3538da7b27d"
   },
   "source": [
    "#### Split the data into train and test"
   ]
  },
  {
   "cell_type": "code",
   "execution_count": 15,
   "id": "509fe1b2-5375-4109-ab4e-1972bcedb43a",
   "metadata": {
    "id": "509fe1b2-5375-4109-ab4e-1972bcedb43a"
   },
   "outputs": [
    {
     "data": {
      "application/javascript": [
       "\n",
       "            setTimeout(function() {\n",
       "                var nbb_cell_id = 15;\n",
       "                var nbb_unformatted_code = \"RANDOM_STATE = 100\\nTEST_SIZE = 0.2\\nTARGET = \\\"Salary\\\"\";\n",
       "                var nbb_formatted_code = \"RANDOM_STATE = 100\\nTEST_SIZE = 0.2\\nTARGET = \\\"Salary\\\"\";\n",
       "                var nbb_cells = Jupyter.notebook.get_cells();\n",
       "                for (var i = 0; i < nbb_cells.length; ++i) {\n",
       "                    if (nbb_cells[i].input_prompt_number == nbb_cell_id) {\n",
       "                        if (nbb_cells[i].get_text() == nbb_unformatted_code) {\n",
       "                             nbb_cells[i].set_text(nbb_formatted_code);\n",
       "                        }\n",
       "                        break;\n",
       "                    }\n",
       "                }\n",
       "            }, 500);\n",
       "            "
      ],
      "text/plain": [
       "<IPython.core.display.Javascript object>"
      ]
     },
     "metadata": {},
     "output_type": "display_data"
    }
   ],
   "source": [
    "RANDOM_STATE = 100\n",
    "TEST_SIZE = 0.2\n",
    "TARGET = \"Salary\""
   ]
  },
  {
   "cell_type": "code",
   "execution_count": 16,
   "id": "7fb78d1c",
   "metadata": {},
   "outputs": [
    {
     "data": {
      "text/plain": [
       "((26048, 12), (6512, 12))"
      ]
     },
     "execution_count": 16,
     "metadata": {},
     "output_type": "execute_result"
    },
    {
     "data": {
      "application/javascript": [
       "\n",
       "            setTimeout(function() {\n",
       "                var nbb_cell_id = 16;\n",
       "                var nbb_unformatted_code = \"# Independent features (Matrix)\\nX = df.drop(columns=TARGET)\\n\\n# Target variable (Vector)\\ny = df[TARGET]\\n\\n# Splitting into test and train\\nX_train, X_test, y_train, y_test = train_test_split(\\n    X, y, test_size=TEST_SIZE, random_state=RANDOM_STATE\\n)\\n\\nX_train.shape, X_test.shape\";\n",
       "                var nbb_formatted_code = \"# Independent features (Matrix)\\nX = df.drop(columns=TARGET)\\n\\n# Target variable (Vector)\\ny = df[TARGET]\\n\\n# Splitting into test and train\\nX_train, X_test, y_train, y_test = train_test_split(\\n    X, y, test_size=TEST_SIZE, random_state=RANDOM_STATE\\n)\\n\\nX_train.shape, X_test.shape\";\n",
       "                var nbb_cells = Jupyter.notebook.get_cells();\n",
       "                for (var i = 0; i < nbb_cells.length; ++i) {\n",
       "                    if (nbb_cells[i].input_prompt_number == nbb_cell_id) {\n",
       "                        if (nbb_cells[i].get_text() == nbb_unformatted_code) {\n",
       "                             nbb_cells[i].set_text(nbb_formatted_code);\n",
       "                        }\n",
       "                        break;\n",
       "                    }\n",
       "                }\n",
       "            }, 500);\n",
       "            "
      ],
      "text/plain": [
       "<IPython.core.display.Javascript object>"
      ]
     },
     "metadata": {},
     "output_type": "display_data"
    }
   ],
   "source": [
    "# Independent features (Matrix)\n",
    "X = df.drop(columns=TARGET)\n",
    "\n",
    "# Target variable (Vector)\n",
    "y = df[TARGET]\n",
    "\n",
    "# Splitting into test and train\n",
    "X_train, X_test, y_train, y_test = train_test_split(\n",
    "    X, y, test_size=TEST_SIZE, random_state=RANDOM_STATE\n",
    ")\n",
    "\n",
    "X_train.shape, X_test.shape"
   ]
  },
  {
   "cell_type": "code",
   "execution_count": 17,
   "id": "82b56ddf",
   "metadata": {
    "scrolled": true
   },
   "outputs": [
    {
     "data": {
      "text/html": [
       "<style>#sk-container-id-1 {color: black;background-color: white;}#sk-container-id-1 pre{padding: 0;}#sk-container-id-1 div.sk-toggleable {background-color: white;}#sk-container-id-1 label.sk-toggleable__label {cursor: pointer;display: block;width: 100%;margin-bottom: 0;padding: 0.3em;box-sizing: border-box;text-align: center;}#sk-container-id-1 label.sk-toggleable__label-arrow:before {content: \"▸\";float: left;margin-right: 0.25em;color: #696969;}#sk-container-id-1 label.sk-toggleable__label-arrow:hover:before {color: black;}#sk-container-id-1 div.sk-estimator:hover label.sk-toggleable__label-arrow:before {color: black;}#sk-container-id-1 div.sk-toggleable__content {max-height: 0;max-width: 0;overflow: hidden;text-align: left;background-color: #f0f8ff;}#sk-container-id-1 div.sk-toggleable__content pre {margin: 0.2em;color: black;border-radius: 0.25em;background-color: #f0f8ff;}#sk-container-id-1 input.sk-toggleable__control:checked~div.sk-toggleable__content {max-height: 200px;max-width: 100%;overflow: auto;}#sk-container-id-1 input.sk-toggleable__control:checked~label.sk-toggleable__label-arrow:before {content: \"▾\";}#sk-container-id-1 div.sk-estimator input.sk-toggleable__control:checked~label.sk-toggleable__label {background-color: #d4ebff;}#sk-container-id-1 div.sk-label input.sk-toggleable__control:checked~label.sk-toggleable__label {background-color: #d4ebff;}#sk-container-id-1 input.sk-hidden--visually {border: 0;clip: rect(1px 1px 1px 1px);clip: rect(1px, 1px, 1px, 1px);height: 1px;margin: -1px;overflow: hidden;padding: 0;position: absolute;width: 1px;}#sk-container-id-1 div.sk-estimator {font-family: monospace;background-color: #f0f8ff;border: 1px dotted black;border-radius: 0.25em;box-sizing: border-box;margin-bottom: 0.5em;}#sk-container-id-1 div.sk-estimator:hover {background-color: #d4ebff;}#sk-container-id-1 div.sk-parallel-item::after {content: \"\";width: 100%;border-bottom: 1px solid gray;flex-grow: 1;}#sk-container-id-1 div.sk-label:hover label.sk-toggleable__label {background-color: #d4ebff;}#sk-container-id-1 div.sk-serial::before {content: \"\";position: absolute;border-left: 1px solid gray;box-sizing: border-box;top: 0;bottom: 0;left: 50%;z-index: 0;}#sk-container-id-1 div.sk-serial {display: flex;flex-direction: column;align-items: center;background-color: white;padding-right: 0.2em;padding-left: 0.2em;position: relative;}#sk-container-id-1 div.sk-item {position: relative;z-index: 1;}#sk-container-id-1 div.sk-parallel {display: flex;align-items: stretch;justify-content: center;background-color: white;position: relative;}#sk-container-id-1 div.sk-item::before, #sk-container-id-1 div.sk-parallel-item::before {content: \"\";position: absolute;border-left: 1px solid gray;box-sizing: border-box;top: 0;bottom: 0;left: 50%;z-index: -1;}#sk-container-id-1 div.sk-parallel-item {display: flex;flex-direction: column;z-index: 1;position: relative;background-color: white;}#sk-container-id-1 div.sk-parallel-item:first-child::after {align-self: flex-end;width: 50%;}#sk-container-id-1 div.sk-parallel-item:last-child::after {align-self: flex-start;width: 50%;}#sk-container-id-1 div.sk-parallel-item:only-child::after {width: 0;}#sk-container-id-1 div.sk-dashed-wrapped {border: 1px dashed gray;margin: 0 0.4em 0.5em 0.4em;box-sizing: border-box;padding-bottom: 0.4em;background-color: white;}#sk-container-id-1 div.sk-label label {font-family: monospace;font-weight: bold;display: inline-block;line-height: 1.2em;}#sk-container-id-1 div.sk-label-container {text-align: center;}#sk-container-id-1 div.sk-container {/* jupyter's `normalize.less` sets `[hidden] { display: none; }` but bootstrap.min.css set `[hidden] { display: none !important; }` so we also need the `!important` here to be able to override the default hidden behavior on the sphinx rendered scikit-learn.org. See: https://github.com/scikit-learn/scikit-learn/issues/21755 */display: inline-block !important;position: relative;}#sk-container-id-1 div.sk-text-repr-fallback {display: none;}</style><div id=\"sk-container-id-1\" class=\"sk-top-container\"><div class=\"sk-text-repr-fallback\"><pre>ColumnTransformer(remainder=&#x27;passthrough&#x27;,\n",
       "                  transformers=[(&#x27;oe&#x27;, OrdinalEncoder(),\n",
       "                                 [&#x27;Workclass&#x27;, &#x27;Marital_status&#x27;, &#x27;Education&#x27;,\n",
       "                                  &#x27;Occupation&#x27;, &#x27;Relationship&#x27;, &#x27;Race&#x27;,\n",
       "                                  &#x27;Sex&#x27;]),\n",
       "                                (&#x27;scaler&#x27;, MinMaxScaler(),\n",
       "                                 [&#x27;Age&#x27;, &#x27;Final_weight&#x27;, &#x27;Capital_gain&#x27;,\n",
       "                                  &#x27;Capital_loss&#x27;, &#x27;Hours_per_week&#x27;])])</pre><b>In a Jupyter environment, please rerun this cell to show the HTML representation or trust the notebook. <br />On GitHub, the HTML representation is unable to render, please try loading this page with nbviewer.org.</b></div><div class=\"sk-container\" hidden><div class=\"sk-item sk-dashed-wrapped\"><div class=\"sk-label-container\"><div class=\"sk-label sk-toggleable\"><input class=\"sk-toggleable__control sk-hidden--visually\" id=\"sk-estimator-id-1\" type=\"checkbox\" ><label for=\"sk-estimator-id-1\" class=\"sk-toggleable__label sk-toggleable__label-arrow\">ColumnTransformer</label><div class=\"sk-toggleable__content\"><pre>ColumnTransformer(remainder=&#x27;passthrough&#x27;,\n",
       "                  transformers=[(&#x27;oe&#x27;, OrdinalEncoder(),\n",
       "                                 [&#x27;Workclass&#x27;, &#x27;Marital_status&#x27;, &#x27;Education&#x27;,\n",
       "                                  &#x27;Occupation&#x27;, &#x27;Relationship&#x27;, &#x27;Race&#x27;,\n",
       "                                  &#x27;Sex&#x27;]),\n",
       "                                (&#x27;scaler&#x27;, MinMaxScaler(),\n",
       "                                 [&#x27;Age&#x27;, &#x27;Final_weight&#x27;, &#x27;Capital_gain&#x27;,\n",
       "                                  &#x27;Capital_loss&#x27;, &#x27;Hours_per_week&#x27;])])</pre></div></div></div><div class=\"sk-parallel\"><div class=\"sk-parallel-item\"><div class=\"sk-item\"><div class=\"sk-label-container\"><div class=\"sk-label sk-toggleable\"><input class=\"sk-toggleable__control sk-hidden--visually\" id=\"sk-estimator-id-2\" type=\"checkbox\" ><label for=\"sk-estimator-id-2\" class=\"sk-toggleable__label sk-toggleable__label-arrow\">oe</label><div class=\"sk-toggleable__content\"><pre>[&#x27;Workclass&#x27;, &#x27;Marital_status&#x27;, &#x27;Education&#x27;, &#x27;Occupation&#x27;, &#x27;Relationship&#x27;, &#x27;Race&#x27;, &#x27;Sex&#x27;]</pre></div></div></div><div class=\"sk-serial\"><div class=\"sk-item\"><div class=\"sk-estimator sk-toggleable\"><input class=\"sk-toggleable__control sk-hidden--visually\" id=\"sk-estimator-id-3\" type=\"checkbox\" ><label for=\"sk-estimator-id-3\" class=\"sk-toggleable__label sk-toggleable__label-arrow\">OrdinalEncoder</label><div class=\"sk-toggleable__content\"><pre>OrdinalEncoder()</pre></div></div></div></div></div></div><div class=\"sk-parallel-item\"><div class=\"sk-item\"><div class=\"sk-label-container\"><div class=\"sk-label sk-toggleable\"><input class=\"sk-toggleable__control sk-hidden--visually\" id=\"sk-estimator-id-4\" type=\"checkbox\" ><label for=\"sk-estimator-id-4\" class=\"sk-toggleable__label sk-toggleable__label-arrow\">scaler</label><div class=\"sk-toggleable__content\"><pre>[&#x27;Age&#x27;, &#x27;Final_weight&#x27;, &#x27;Capital_gain&#x27;, &#x27;Capital_loss&#x27;, &#x27;Hours_per_week&#x27;]</pre></div></div></div><div class=\"sk-serial\"><div class=\"sk-item\"><div class=\"sk-estimator sk-toggleable\"><input class=\"sk-toggleable__control sk-hidden--visually\" id=\"sk-estimator-id-5\" type=\"checkbox\" ><label for=\"sk-estimator-id-5\" class=\"sk-toggleable__label sk-toggleable__label-arrow\">MinMaxScaler</label><div class=\"sk-toggleable__content\"><pre>MinMaxScaler()</pre></div></div></div></div></div></div><div class=\"sk-parallel-item\"><div class=\"sk-item\"><div class=\"sk-label-container\"><div class=\"sk-label sk-toggleable\"><input class=\"sk-toggleable__control sk-hidden--visually\" id=\"sk-estimator-id-6\" type=\"checkbox\" ><label for=\"sk-estimator-id-6\" class=\"sk-toggleable__label sk-toggleable__label-arrow\">remainder</label><div class=\"sk-toggleable__content\"><pre></pre></div></div></div><div class=\"sk-serial\"><div class=\"sk-item\"><div class=\"sk-estimator sk-toggleable\"><input class=\"sk-toggleable__control sk-hidden--visually\" id=\"sk-estimator-id-7\" type=\"checkbox\" ><label for=\"sk-estimator-id-7\" class=\"sk-toggleable__label sk-toggleable__label-arrow\">passthrough</label><div class=\"sk-toggleable__content\"><pre>passthrough</pre></div></div></div></div></div></div></div></div></div></div>"
      ],
      "text/plain": [
       "ColumnTransformer(remainder='passthrough',\n",
       "                  transformers=[('oe', OrdinalEncoder(),\n",
       "                                 ['Workclass', 'Marital_status', 'Education',\n",
       "                                  'Occupation', 'Relationship', 'Race',\n",
       "                                  'Sex']),\n",
       "                                ('scaler', MinMaxScaler(),\n",
       "                                 ['Age', 'Final_weight', 'Capital_gain',\n",
       "                                  'Capital_loss', 'Hours_per_week'])])"
      ]
     },
     "execution_count": 17,
     "metadata": {},
     "output_type": "execute_result"
    },
    {
     "data": {
      "application/javascript": [
       "\n",
       "            setTimeout(function() {\n",
       "                var nbb_cell_id = 17;\n",
       "                var nbb_unformatted_code = \"# Selecting columns to perform preprocessing on\\nvars_to_encode = [\\n    \\\"Workclass\\\",\\n    \\\"Marital_status\\\",\\n    \\\"Education\\\",\\n    \\\"Occupation\\\",\\n    \\\"Relationship\\\",\\n    \\\"Race\\\",\\n    \\\"Sex\\\",\\n]\\n\\nvars_to_scale = [\\n    \\\"Age\\\",\\n    \\\"Final_weight\\\",\\n    \\\"Capital_gain\\\",\\n    \\\"Capital_loss\\\",\\n    \\\"Hours_per_week\\\",\\n]\\n\\n# ===== OE =====\\noe = OrdinalEncoder(handle_unknown=\\\"error\\\")\\n\\n# ===== Scaler =====\\nscaler = MinMaxScaler()\\n\\npreprocessor = ColumnTransformer(\\n    transformers=[\\n        (\\\"oe\\\", oe, vars_to_encode),\\n        (\\\"scaler\\\", scaler, vars_to_scale),\\n    ],\\n    remainder=\\\"passthrough\\\",\\n)\\n\\npreprocessor\";\n",
       "                var nbb_formatted_code = \"# Selecting columns to perform preprocessing on\\nvars_to_encode = [\\n    \\\"Workclass\\\",\\n    \\\"Marital_status\\\",\\n    \\\"Education\\\",\\n    \\\"Occupation\\\",\\n    \\\"Relationship\\\",\\n    \\\"Race\\\",\\n    \\\"Sex\\\",\\n]\\n\\nvars_to_scale = [\\n    \\\"Age\\\",\\n    \\\"Final_weight\\\",\\n    \\\"Capital_gain\\\",\\n    \\\"Capital_loss\\\",\\n    \\\"Hours_per_week\\\",\\n]\\n\\n# ===== OE =====\\noe = OrdinalEncoder(handle_unknown=\\\"error\\\")\\n\\n# ===== Scaler =====\\nscaler = MinMaxScaler()\\n\\npreprocessor = ColumnTransformer(\\n    transformers=[\\n        (\\\"oe\\\", oe, vars_to_encode),\\n        (\\\"scaler\\\", scaler, vars_to_scale),\\n    ],\\n    remainder=\\\"passthrough\\\",\\n)\\n\\npreprocessor\";\n",
       "                var nbb_cells = Jupyter.notebook.get_cells();\n",
       "                for (var i = 0; i < nbb_cells.length; ++i) {\n",
       "                    if (nbb_cells[i].input_prompt_number == nbb_cell_id) {\n",
       "                        if (nbb_cells[i].get_text() == nbb_unformatted_code) {\n",
       "                             nbb_cells[i].set_text(nbb_formatted_code);\n",
       "                        }\n",
       "                        break;\n",
       "                    }\n",
       "                }\n",
       "            }, 500);\n",
       "            "
      ],
      "text/plain": [
       "<IPython.core.display.Javascript object>"
      ]
     },
     "metadata": {},
     "output_type": "display_data"
    }
   ],
   "source": [
    "# Selecting columns to perform preprocessing on\n",
    "vars_to_encode = [\n",
    "    \"Workclass\",\n",
    "    \"Marital_status\",\n",
    "    \"Education\",\n",
    "    \"Occupation\",\n",
    "    \"Relationship\",\n",
    "    \"Race\",\n",
    "    \"Sex\",\n",
    "]\n",
    "\n",
    "vars_to_scale = [\n",
    "    \"Age\",\n",
    "    \"Final_weight\",\n",
    "    \"Capital_gain\",\n",
    "    \"Capital_loss\",\n",
    "    \"Hours_per_week\",\n",
    "]\n",
    "\n",
    "# ===== OE =====\n",
    "oe = OrdinalEncoder(handle_unknown=\"error\")\n",
    "\n",
    "# ===== Scaler =====\n",
    "scaler = MinMaxScaler()\n",
    "\n",
    "preprocessor = ColumnTransformer(\n",
    "    transformers=[\n",
    "        (\"oe\", oe, vars_to_encode),\n",
    "        (\"scaler\", scaler, vars_to_scale),\n",
    "    ],\n",
    "    remainder=\"passthrough\",\n",
    ")\n",
    "\n",
    "preprocessor"
   ]
  },
  {
   "cell_type": "code",
   "execution_count": 18,
   "id": "09852e52",
   "metadata": {},
   "outputs": [
    {
     "data": {
      "text/html": [
       "<div>\n",
       "<style scoped>\n",
       "    .dataframe tbody tr th:only-of-type {\n",
       "        vertical-align: middle;\n",
       "    }\n",
       "\n",
       "    .dataframe tbody tr th {\n",
       "        vertical-align: top;\n",
       "    }\n",
       "\n",
       "    .dataframe thead th {\n",
       "        text-align: right;\n",
       "    }\n",
       "</style>\n",
       "<table border=\"1\" class=\"dataframe\">\n",
       "  <thead>\n",
       "    <tr style=\"text-align: right;\">\n",
       "      <th></th>\n",
       "      <th>oe__Workclass</th>\n",
       "      <th>oe__Marital_status</th>\n",
       "      <th>oe__Education</th>\n",
       "      <th>oe__Occupation</th>\n",
       "      <th>oe__Relationship</th>\n",
       "      <th>oe__Race</th>\n",
       "      <th>oe__Sex</th>\n",
       "      <th>scaler__Age</th>\n",
       "      <th>scaler__Final_weight</th>\n",
       "      <th>scaler__Capital_gain</th>\n",
       "      <th>scaler__Capital_loss</th>\n",
       "      <th>scaler__Hours_per_week</th>\n",
       "    </tr>\n",
       "  </thead>\n",
       "  <tbody>\n",
       "    <tr>\n",
       "      <th>0</th>\n",
       "      <td>0.0</td>\n",
       "      <td>0.0</td>\n",
       "      <td>11.0</td>\n",
       "      <td>1.0</td>\n",
       "      <td>5.0</td>\n",
       "      <td>2.0</td>\n",
       "      <td>0.0</td>\n",
       "      <td>0.123288</td>\n",
       "      <td>0.313321</td>\n",
       "      <td>0.0</td>\n",
       "      <td>0.0</td>\n",
       "      <td>0.295918</td>\n",
       "    </tr>\n",
       "    <tr>\n",
       "      <th>1</th>\n",
       "      <td>0.0</td>\n",
       "      <td>0.0</td>\n",
       "      <td>0.0</td>\n",
       "      <td>0.0</td>\n",
       "      <td>0.0</td>\n",
       "      <td>1.0</td>\n",
       "      <td>1.0</td>\n",
       "      <td>0.342466</td>\n",
       "      <td>0.241268</td>\n",
       "      <td>0.0</td>\n",
       "      <td>0.0</td>\n",
       "      <td>0.428571</td>\n",
       "    </tr>\n",
       "    <tr>\n",
       "      <th>2</th>\n",
       "      <td>0.0</td>\n",
       "      <td>1.0</td>\n",
       "      <td>15.0</td>\n",
       "      <td>0.0</td>\n",
       "      <td>0.0</td>\n",
       "      <td>2.0</td>\n",
       "      <td>1.0</td>\n",
       "      <td>0.068493</td>\n",
       "      <td>0.117173</td>\n",
       "      <td>0.0</td>\n",
       "      <td>0.0</td>\n",
       "      <td>0.397959</td>\n",
       "    </tr>\n",
       "    <tr>\n",
       "      <th>3</th>\n",
       "      <td>0.0</td>\n",
       "      <td>0.0</td>\n",
       "      <td>1.0</td>\n",
       "      <td>0.0</td>\n",
       "      <td>2.0</td>\n",
       "      <td>2.0</td>\n",
       "      <td>1.0</td>\n",
       "      <td>0.452055</td>\n",
       "      <td>0.122192</td>\n",
       "      <td>0.0</td>\n",
       "      <td>0.0</td>\n",
       "      <td>0.397959</td>\n",
       "    </tr>\n",
       "    <tr>\n",
       "      <th>4</th>\n",
       "      <td>0.0</td>\n",
       "      <td>0.0</td>\n",
       "      <td>10.0</td>\n",
       "      <td>2.0</td>\n",
       "      <td>2.0</td>\n",
       "      <td>2.0</td>\n",
       "      <td>1.0</td>\n",
       "      <td>0.328767</td>\n",
       "      <td>0.327879</td>\n",
       "      <td>1.0</td>\n",
       "      <td>0.0</td>\n",
       "      <td>0.704082</td>\n",
       "    </tr>\n",
       "  </tbody>\n",
       "</table>\n",
       "</div>"
      ],
      "text/plain": [
       "   oe__Workclass  oe__Marital_status  oe__Education  oe__Occupation   \n",
       "0            0.0                 0.0           11.0             1.0  \\\n",
       "1            0.0                 0.0            0.0             0.0   \n",
       "2            0.0                 1.0           15.0             0.0   \n",
       "3            0.0                 0.0            1.0             0.0   \n",
       "4            0.0                 0.0           10.0             2.0   \n",
       "\n",
       "   oe__Relationship  oe__Race  oe__Sex  scaler__Age  scaler__Final_weight   \n",
       "0               5.0       2.0      0.0     0.123288              0.313321  \\\n",
       "1               0.0       1.0      1.0     0.342466              0.241268   \n",
       "2               0.0       2.0      1.0     0.068493              0.117173   \n",
       "3               2.0       2.0      1.0     0.452055              0.122192   \n",
       "4               2.0       2.0      1.0     0.328767              0.327879   \n",
       "\n",
       "   scaler__Capital_gain  scaler__Capital_loss  scaler__Hours_per_week  \n",
       "0                   0.0                   0.0                0.295918  \n",
       "1                   0.0                   0.0                0.428571  \n",
       "2                   0.0                   0.0                0.397959  \n",
       "3                   0.0                   0.0                0.397959  \n",
       "4                   1.0                   0.0                0.704082  "
      ]
     },
     "execution_count": 18,
     "metadata": {},
     "output_type": "execute_result"
    },
    {
     "data": {
      "application/javascript": [
       "\n",
       "            setTimeout(function() {\n",
       "                var nbb_cell_id = 18;\n",
       "                var nbb_unformatted_code = \"# View preprocessed info\\ntr = preprocessor.fit_transform(X_train)\\npd.DataFrame(tr, columns=preprocessor.get_feature_names_out()).head()\";\n",
       "                var nbb_formatted_code = \"# View preprocessed info\\ntr = preprocessor.fit_transform(X_train)\\npd.DataFrame(tr, columns=preprocessor.get_feature_names_out()).head()\";\n",
       "                var nbb_cells = Jupyter.notebook.get_cells();\n",
       "                for (var i = 0; i < nbb_cells.length; ++i) {\n",
       "                    if (nbb_cells[i].input_prompt_number == nbb_cell_id) {\n",
       "                        if (nbb_cells[i].get_text() == nbb_unformatted_code) {\n",
       "                             nbb_cells[i].set_text(nbb_formatted_code);\n",
       "                        }\n",
       "                        break;\n",
       "                    }\n",
       "                }\n",
       "            }, 500);\n",
       "            "
      ],
      "text/plain": [
       "<IPython.core.display.Javascript object>"
      ]
     },
     "metadata": {},
     "output_type": "display_data"
    }
   ],
   "source": [
    "# View preprocessed info\n",
    "tr = preprocessor.fit_transform(X_train)\n",
    "pd.DataFrame(tr, columns=preprocessor.get_feature_names_out()).head()"
   ]
  },
  {
   "cell_type": "code",
   "execution_count": 19,
   "id": "60e0254f",
   "metadata": {},
   "outputs": [
    {
     "name": "stderr",
     "output_type": "stream",
     "text": [
      "C:\\Users\\LENOVO USER\\anaconda3\\lib\\site-packages\\sklearn\\linear_model\\_logistic.py:458: ConvergenceWarning: lbfgs failed to converge (status=1):\n",
      "STOP: TOTAL NO. of ITERATIONS REACHED LIMIT.\n",
      "\n",
      "Increase the number of iterations (max_iter) or scale the data as shown in:\n",
      "    https://scikit-learn.org/stable/modules/preprocessing.html\n",
      "Please also refer to the documentation for alternative solver options:\n",
      "    https://scikit-learn.org/stable/modules/linear_model.html#logistic-regression\n",
      "  n_iter_i = _check_optimize_result(\n"
     ]
    },
    {
     "data": {
      "application/javascript": [
       "\n",
       "            setTimeout(function() {\n",
       "                var nbb_cell_id = 19;\n",
       "                var nbb_unformatted_code = \"# Define model\\nmodel = LogisticRegression()\\n\\n# Bundle preprocessing and modeling code in a pipeline\\nclf = Pipeline(steps=[(\\\"preprocessor\\\", preprocessor), (\\\"model\\\", model)])\\n\\n# Preprocessing of training data, fit model\\nclf.fit(X_train, y_train)\\n\\n# Preprocessing of validation data, get predictions\\npreds = clf.predict(X_test)\";\n",
       "                var nbb_formatted_code = \"# Define model\\nmodel = LogisticRegression()\\n\\n# Bundle preprocessing and modeling code in a pipeline\\nclf = Pipeline(steps=[(\\\"preprocessor\\\", preprocessor), (\\\"model\\\", model)])\\n\\n# Preprocessing of training data, fit model\\nclf.fit(X_train, y_train)\\n\\n# Preprocessing of validation data, get predictions\\npreds = clf.predict(X_test)\";\n",
       "                var nbb_cells = Jupyter.notebook.get_cells();\n",
       "                for (var i = 0; i < nbb_cells.length; ++i) {\n",
       "                    if (nbb_cells[i].input_prompt_number == nbb_cell_id) {\n",
       "                        if (nbb_cells[i].get_text() == nbb_unformatted_code) {\n",
       "                             nbb_cells[i].set_text(nbb_formatted_code);\n",
       "                        }\n",
       "                        break;\n",
       "                    }\n",
       "                }\n",
       "            }, 500);\n",
       "            "
      ],
      "text/plain": [
       "<IPython.core.display.Javascript object>"
      ]
     },
     "metadata": {},
     "output_type": "display_data"
    }
   ],
   "source": [
    "# Define model\n",
    "model = LogisticRegression()\n",
    "\n",
    "# Bundle preprocessing and modeling code in a pipeline\n",
    "clf = Pipeline(steps=[(\"preprocessor\", preprocessor), (\"model\", model)])\n",
    "\n",
    "# Preprocessing of training data, fit model\n",
    "clf.fit(X_train, y_train)\n",
    "\n",
    "# Preprocessing of validation data, get predictions\n",
    "preds = clf.predict(X_test)"
   ]
  },
  {
   "cell_type": "markdown",
   "id": "82ca3f3d",
   "metadata": {},
   "source": [
    "<a id=\"modeleval\"></a>\n",
    "## Model evaluation\n",
    "\n",
    "Evaluating the performance of the model using three different performance metrics: accuracy, precision, and recall. "
   ]
  },
  {
   "cell_type": "code",
   "execution_count": 21,
   "id": "2734b6c4",
   "metadata": {},
   "outputs": [
    {
     "name": "stdout",
     "output_type": "stream",
     "text": [
      "Accuracy: 0.8100429975429976\n",
      "Precision: 0.6864077669902913\n",
      "Recall: 0.43615052436767426\n"
     ]
    },
    {
     "data": {
      "application/javascript": [
       "\n",
       "            setTimeout(function() {\n",
       "                var nbb_cell_id = 21;\n",
       "                var nbb_unformatted_code = \"# Checking model performance\\naccuracy = accuracy_score(y_test, preds)\\nprecision = precision_score(y_test, preds)\\nrecall = recall_score(y_test, preds)\\n\\nprint(\\\"Accuracy:\\\", accuracy)\\nprint(\\\"Precision:\\\", precision)\\nprint(\\\"Recall:\\\", recall)\";\n",
       "                var nbb_formatted_code = \"# Checking model performance\\naccuracy = accuracy_score(y_test, preds)\\nprecision = precision_score(y_test, preds)\\nrecall = recall_score(y_test, preds)\\n\\nprint(\\\"Accuracy:\\\", accuracy)\\nprint(\\\"Precision:\\\", precision)\\nprint(\\\"Recall:\\\", recall)\";\n",
       "                var nbb_cells = Jupyter.notebook.get_cells();\n",
       "                for (var i = 0; i < nbb_cells.length; ++i) {\n",
       "                    if (nbb_cells[i].input_prompt_number == nbb_cell_id) {\n",
       "                        if (nbb_cells[i].get_text() == nbb_unformatted_code) {\n",
       "                             nbb_cells[i].set_text(nbb_formatted_code);\n",
       "                        }\n",
       "                        break;\n",
       "                    }\n",
       "                }\n",
       "            }, 500);\n",
       "            "
      ],
      "text/plain": [
       "<IPython.core.display.Javascript object>"
      ]
     },
     "metadata": {},
     "output_type": "display_data"
    }
   ],
   "source": [
    "# Checking model performance\n",
    "accuracy = accuracy_score(y_test, preds)\n",
    "precision = precision_score(y_test, preds)\n",
    "recall = recall_score(y_test, preds)\n",
    "\n",
    "print(\"Accuracy:\", accuracy)\n",
    "print(\"Precision:\", precision)\n",
    "print(\"Recall:\", recall)"
   ]
  },
  {
   "cell_type": "markdown",
   "id": "4cc227aa",
   "metadata": {},
   "source": [
    "<a id=\"conclusion\"></a>\n",
    "## Conclusion\n",
    "In conclusion, a classification model that can predict whether a person makes over 50K a year based on various demographic, educational, and employment-related features was built. \n",
    "\n",
    "The performance of the model using three different performance metrics, which suggest that our model is able to predict the income level with a reasonable degree of accuracy. However, there is still room for improvement, and future work could involve exploring different models or improving the feature engineering process."
   ]
  },
  {
   "cell_type": "code",
   "execution_count": null,
   "id": "d029c857",
   "metadata": {},
   "outputs": [],
   "source": []
  }
 ],
 "metadata": {
  "colab": {
   "provenance": []
  },
  "kernelspec": {
   "display_name": "Python 3 (ipykernel)",
   "language": "python",
   "name": "python3"
  },
  "language_info": {
   "codemirror_mode": {
    "name": "ipython",
    "version": 3
   },
   "file_extension": ".py",
   "mimetype": "text/x-python",
   "name": "python",
   "nbconvert_exporter": "python",
   "pygments_lexer": "ipython3",
   "version": "3.8.16"
  }
 },
 "nbformat": 4,
 "nbformat_minor": 5
}
